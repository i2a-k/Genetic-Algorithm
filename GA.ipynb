{
  "nbformat": 4,
  "nbformat_minor": 0,
  "metadata": {
    "colab": {
      "name": "GA.ipynb",
      "provenance": [],
      "collapsed_sections": []
    },
    "kernelspec": {
      "name": "python3",
      "display_name": "Python 3"
    }
  },
  "cells": [
    {
      "cell_type": "code",
      "metadata": {
        "id": "haRndorTHL_b",
        "colab_type": "code",
        "colab": {}
      },
      "source": [
        "import numpy as np\n",
        "import math\n",
        "\n",
        "def F(population): #Rastrigin Function\n",
        "  exponent = 2\n",
        "  t1 = np.sum(np.power(population, exponent)) \n",
        "  t2 = -10*math.cos(np.sum(2*math.pi*population))+10\n",
        "  result = t1+t2\n",
        "  return result"
      ],
      "execution_count": 0,
      "outputs": []
    },
    {
      "cell_type": "code",
      "metadata": {
        "id": "e2Jse829HM3M",
        "colab_type": "code",
        "colab": {}
      },
      "source": [
        "#Initial Settings\n",
        "pop_size = 100\n",
        "dim = 2\n",
        "max_iter = 500\n",
        "lower_bound = -5.12\n",
        "upper_bound = 5.12\n",
        "max_nfe = 10000\n",
        "nfe = 0\n",
        "Pc = 0.5 #Cross Over Rate\n",
        "Pm = 0.1 #Mutation Rate"
      ],
      "execution_count": 0,
      "outputs": []
    },
    {
      "cell_type": "code",
      "metadata": {
        "id": "ysmQ3auE5RHI",
        "colab_type": "code",
        "colab": {}
      },
      "source": [
        "#Initializing Random Population\n",
        "X = np.random.uniform(low=lower_bound, high=upper_bound, size=(pop_size, dim))\n",
        "pop = np.zeros((pop_size, dim+1))\n",
        "pop[:,0:dim] = X[:,0:dim]\n",
        "\n",
        "#Computing Fitness\n",
        "for i in range(pop_size):\n",
        "  pop[i,-1] = F(X[i,:])\n",
        "  nfe += 1\n",
        "#Population Sorting\n",
        "pop = pop[np.argsort(pop[:, -1]), :]"
      ],
      "execution_count": 0,
      "outputs": []
    },
    {
      "cell_type": "code",
      "metadata": {
        "id": "HqoZ-pBvX6UP",
        "colab_type": "code",
        "outputId": "b20827b5-3228-43b3-e3aa-c406e781108c",
        "colab": {
          "base_uri": "https://localhost:8080/",
          "height": 34
        }
      },
      "source": [
        "# Algorithm's Main Loop\n",
        "for j in range(max_iter):\n",
        "  if nfe >= max_nfe:\n",
        "    break\n",
        "\n",
        "  Fit = np.sum(pop[:,-1]) #Fitness for Population\n",
        "  pk = pop[:,-1]/Fit #Selection Probability\n",
        "  qk = np.cumsum(pk) #Cumulative Probability\n",
        "\n",
        "  #Cross Over Step\n",
        "  n_cross = math.floor(Pc * pop_size)\n",
        "  if (n_cross % 2) != 0:\n",
        "    n_cross += 1\n",
        "  parents = []\n",
        "  d = int(dim/2)\n",
        "  c = int(n_cross/2)\n",
        "  offsprings = np.zeros((c, dim+1))\n",
        "\n",
        "  #Selection for Mating Pool (Roulette Wheel)\n",
        "  for k in range(n_cross):\n",
        "    r = np.random.rand()\n",
        "    for l in range(pop_size):\n",
        "      if r <= qk[l]:\n",
        "        parents.append(pop[l,:])\n",
        "        break\n",
        "  #Uniform Cross Over\n",
        "  parents = np.asarray(parents)\n",
        "  offsprings[:,0:d] = parents[0:c,0:d]\n",
        "  offsprings[:,d:dim] = parents[c:n_cross,d:dim]\n",
        "\n",
        "  for p in range(c):\n",
        "    offsprings[p,-1] = F(offsprings[p,:])\n",
        "    nfe += 1\n",
        "\n",
        "  #New Population\n",
        "  n_pop = pop\n",
        "  n_pop = np.append(n_pop, offsprings, axis=0)\n",
        "\n",
        "  #Mutation\n",
        "  M = np.random.uniform(low=lower_bound, high=upper_bound, size=(math.floor(Pm*pop_size), dim))\n",
        "  temp = np.zeros((1,dim+1))\n",
        "  for w in M:\n",
        "    rand = np.random.randint(0, pop_size-1)\n",
        "    temp[0,:dim] = pop[rand,:dim] + w\n",
        "    temp[0,dim] = F(temp[0,:dim])\n",
        "    n_pop = np.append(n_pop, temp, axis=0)\n",
        "    nfe += 1\n",
        "\n",
        "  #Selecting Population for Next Generation\n",
        "  n_pop = n_pop[np.argsort(n_pop[:, -1]), :]\n",
        "  pop = n_pop[:pop_size,:]\n",
        "\n",
        "print(\"Algorithm is done!\")"
      ],
      "execution_count": 4,
      "outputs": [
        {
          "output_type": "stream",
          "text": [
            "Algorithm is done!\n"
          ],
          "name": "stdout"
        }
      ]
    },
    {
      "cell_type": "code",
      "metadata": {
        "id": "KmIC1GrVRvLQ",
        "colab_type": "code",
        "outputId": "fc954dd7-254f-4c2a-acfd-89bbea3796ed",
        "colab": {
          "base_uri": "https://localhost:8080/",
          "height": 50
        }
      },
      "source": [
        "print(\"Answer: \", pop[0,0:dim])\n",
        "print(\"Fitness = \", pop[0,-1])"
      ],
      "execution_count": 5,
      "outputs": [
        {
          "output_type": "stream",
          "text": [
            "Answer:  [-0.1824096   0.17867594]\n",
            "Fitness =  0.06794991748608747\n"
          ],
          "name": "stdout"
        }
      ]
    }
  ]
}